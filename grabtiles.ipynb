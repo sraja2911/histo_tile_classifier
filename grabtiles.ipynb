{
 "cells": [
  {
   "cell_type": "code",
   "execution_count": 1,
   "metadata": {},
   "outputs": [
    {
     "name": "stderr",
     "output_type": "stream",
     "text": [
      "INFO:girder:Created LRU Cache for 'tilesource' with 104 maximum size\n",
      "INFO:root:Notice: Could not import MapnikTileSource\n"
     ]
    }
   ],
   "source": [
    "# Imports Girder Client, HistomicsTK utils, Python os, sys functions\n",
    "import os, sys, json, glob\n",
    "import numpy as np\n",
    "import girder_client\n",
    "import histomicstk.utils as htk_utils\n",
    "from cStringIO import StringIO\n",
    "import io, random\n",
    "import logging\n",
    "from os.path import join as opj\n",
    "import matplotlib.pyplot as plt\n",
    "from PIL import Image\n",
    "\n",
    "cohort = \"gbm\""
   ]
  },
  {
   "cell_type": "code",
   "execution_count": 2,
   "metadata": {},
   "outputs": [
    {
     "name": "stdout",
     "output_type": "stream",
     "text": [
      "(64, 'for the gbm Cohort')\n"
     ]
    }
   ],
   "source": [
    "logging.getLogger(\"requests\").setLevel(logging.WARNING)\n",
    "#gc = girder_client.GirderClient(apiUrl=\"http://candygram.neurology.emory.edu:8080/api/v1\")\n",
    "gc = girder_client.GirderClient(apiUrl=\"http://digitalslidearchive.emory.edu:8080/api/v1\")\n",
    "\n",
    "## Connect to girder and get the cohort ID's for all the TCGA collections\n",
    "tcgaCohorts = gc.get('/tcga/cohort')  ## This gets me the folderID for all the TCGA cohorts\n",
    "cohortInfo = dict([(x['name'],x['_id']) for x in tcgaCohorts['data']])\n",
    "\n",
    "slidesInCohort = gc.get('/tcga/cohort/%s/images?limit=%d' % (cohortInfo[cohort],200))\n",
    "## PROBABLY should write a generator to grab all the slides instead of just specifying some giant number\n",
    "\n",
    "### For now I am going to filter out any non DX Cases\n",
    "dxSlides = [x for x in slidesInCohort['data'] if '-DX' in x['name']]\n",
    "print(len(dxSlides),\"for the %s Cohort\"%cohort)\n",
    "\n",
    "for idx,sl in enumerate(dxSlides):\n",
    "    lowResMag = 0.625\n",
    "    lowResImg = gc.get('/item/%s/tiles/region?magnification=%s' % (sl['_id'], lowResMag),jsonResp=False)    \n",
    "    lowResPILimage = Image.open(io.BytesIO(lowResImg.content))\n",
    "    break\n",
    "    \n",
    "class LinePrinter():\n",
    "    \"\"\"\n",
    "    Print things to stdout on one line dynamically\n",
    "    \"\"\"\n",
    "    def __init__(self,data):\n",
    "        sys.stdout.write(\"\\r\\x1b[K\"+data.__str__())\n",
    "        sys.stdout.flush()"
   ]
  },
  {
   "cell_type": "code",
   "execution_count": 3,
   "metadata": {},
   "outputs": [],
   "source": [
    "def grabTilesFromImage(imageData, outputDir, lowResMag=0.625, outputRes=20, tilesToOutput=200,debug=False):\n",
    "    ### This receives a list of images from Girder and will generate tiles and place them in \n",
    "    ### Train and Test Directories-- it will split based on train_test_split and also\n",
    "    ## Will run a low res segmentation step prior to trying to randomly grab tiles from the input stream\n",
    "    ## outputDir should be something like /data/train/gbm or similar; I'll have the function calling this make sure those\n",
    "    ## Dirs already exist\n",
    "\n",
    "    ## Pull the image from girder and then use PIL to turn the raw bytes in an image object\n",
    "    if debug:\n",
    "        print(\"Analyzing %s; pulling base image at %s and outputing tiles at %s\" % (imageData['name'],lowResMag,outputRes))\n",
    "    lowResImg = gc.get('/item/%s/tiles/region?magnification=%s' % ( imageData['_id'], lowResMag),jsonResp=False)    \n",
    "    lowResPILimage = Image.open(io.BytesIO(lowResImg.content))\n",
    "\n",
    "    # Using HistomicsTK utils's simple mask function to mask out tissue areas from background in brightfield H&E images\n",
    "    im_fgnd_mask_lres = htk_utils.simple_mask(np.asarray(lowResPILimage))\n",
    "\n",
    "    # To extract masked coordinates from numpy array\n",
    "    (YmaskPts,XmaskPts)  = np.nonzero(im_fgnd_mask_lres)\n",
    "    maskCoords = zip(XmaskPts,YmaskPts) # To change into (x, y) form\n",
    "\n",
    "    # To Create a bounding box of masked image\n",
    "    scaleFactor = 32 # this is the high magnification (20x) / low res (0.625)\n",
    "    left   = int(min(XmaskPts) * scaleFactor)\n",
    "    top    = int(min(YmaskPts) * scaleFactor)\n",
    "    right  = int(max(XmaskPts) * scaleFactor)\n",
    "    bottom = int(max(YmaskPts) * scaleFactor)\n",
    "    left, right, top, bottom\n",
    "\n",
    "    # To generate tile corners from the bounding box\n",
    "    corners = []\n",
    "    for x in range(left, right, 256):\n",
    "        for y in range(top, bottom, 256):\n",
    "            corners.append([x,y])\n",
    "        \n",
    "    np.random.shuffle(corners)\n",
    "\n",
    "    slideBaseName =  sl['name'].split(\".\")[0]\n",
    "\n",
    "    regionWidth = regionHeight = 256\n",
    "    outputRes = 20\n",
    "    count = 0\n",
    "\n",
    "    for c in corners:\n",
    "        x_low = c[0] / scaleFactor\n",
    "        y_low = c[1] / scaleFactor\n",
    "        top = c[1]\n",
    "        left = c[0]\n",
    "        \n",
    "        # Extracts tile for the specified corner region \n",
    "        curTile = gc.get('/item/%s/tiles/region?magnification=%s&top=%d&left=%d&regionWidth=%d&regionHeight=%d' \n",
    "            % ( imageData['_id'], outputRes, top, left,regionWidth,regionHeight),jsonResp=False)\n",
    "        \n",
    "        img = np.asarray(Image.open(io.BytesIO(curTile.content))) # Converts binary image to numpy array\n",
    "        label = im_fgnd_mask_lres[y_low, x_low]\n",
    "        \n",
    "        if label:\n",
    "            count += 1\n",
    "            plt.imshow(img)\n",
    "            #plt.show()\n",
    "            tilename = outputDir + \"/\"+ slideBaseName + '_%dx_%d_%d_%dx%d.jpg' % (outputRes, top, left,regionWidth,regionHeight) \n",
    "            plt.savefig(tilename)\n",
    "            \n",
    "            if count > tilesToOutput:\n",
    "                break                       "
   ]
  },
  {
   "cell_type": "code",
   "execution_count": 4,
   "metadata": {},
   "outputs": [
    {
     "name": "stdout",
     "output_type": "stream",
     "text": [
      "Analyzing TCGA-02-0001-01Z-00-DX2.b521a862-280c-4251-ab54-5636f20605d0.svs; pulling base image at 0.625 and outputing tiles at 20\n",
      "Analyzing TCGA-02-0001-01Z-00-DX2.b521a862-280c-4251-ab54-5636f20605d0.svs; pulling base image at 0.625 and outputing tiles at 20\n",
      "Analyzing TCGA-02-0001-01Z-00-DX3.2836ce55-491f-4d86-99b1-668946927af8.svs; pulling base image at 0.625 and outputing tiles at 20\n",
      "Analyzing TCGA-02-0001-01Z-00-DX3.2836ce55-491f-4d86-99b1-668946927af8.svs; pulling base image at 0.625 and outputing tiles at 20\n",
      "Analyzing TCGA-02-0003-01Z-00-DX2.c7652d8d-d78f-49ae-8259-bb2bdb5d50fb.svs; pulling base image at 0.625 and outputing tiles at 20\n",
      "Analyzing TCGA-02-0003-01Z-00-DX2.c7652d8d-d78f-49ae-8259-bb2bdb5d50fb.svs; pulling base image at 0.625 and outputing tiles at 20\n",
      "Analyzing TCGA-02-0003-01Z-00-DX3.995C2924-E298-4517-82A4-15806766CE31.svs; pulling base image at 0.625 and outputing tiles at 20\n",
      "Analyzing TCGA-02-0003-01Z-00-DX3.995C2924-E298-4517-82A4-15806766CE31.svs; pulling base image at 0.625 and outputing tiles at 20\n",
      "Analyzing TCGA-02-0004-01Z-00-DX1.d8189fdc-c669-48d5-bc9e-8ddf104caff6.svs; pulling base image at 0.625 and outputing tiles at 20\n",
      "Analyzing TCGA-02-0004-01Z-00-DX1.d8189fdc-c669-48d5-bc9e-8ddf104caff6.svs; pulling base image at 0.625 and outputing tiles at 20\n",
      "Analyzing TCGA-02-0006-01Z-00-DX1.a37df719-8b93-4245-ae49-67eb1114253a.svs; pulling base image at 0.625 and outputing tiles at 20\n",
      "Analyzing TCGA-02-0006-01Z-00-DX1.a37df719-8b93-4245-ae49-67eb1114253a.svs; pulling base image at 0.625 and outputing tiles at 20\n",
      "Analyzing TCGA-02-0009-01Z-00-DX2.f5c99ad0-30b1-4f1b-afb0-0a355068eacc.svs; pulling base image at 0.625 and outputing tiles at 20\n",
      "Analyzing TCGA-02-0009-01Z-00-DX2.f5c99ad0-30b1-4f1b-afb0-0a355068eacc.svs; pulling base image at 0.625 and outputing tiles at 20\n",
      "Analyzing TCGA-02-0009-01Z-00-DX3.BAA1276B-E4D7-43D4-BDDF-807532462518.svs; pulling base image at 0.625 and outputing tiles at 20\n",
      "Analyzing TCGA-02-0009-01Z-00-DX3.BAA1276B-E4D7-43D4-BDDF-807532462518.svs; pulling base image at 0.625 and outputing tiles at 20\n",
      "Analyzing TCGA-02-0010-01Z-00-DX1.b53f8c4e-6e10-4684-b7fc-fd9e0b9d6c01.svs; pulling base image at 0.625 and outputing tiles at 20\n",
      "Analyzing TCGA-02-0010-01Z-00-DX1.b53f8c4e-6e10-4684-b7fc-fd9e0b9d6c01.svs; pulling base image at 0.625 and outputing tiles at 20\n",
      "Analyzing TCGA-02-0010-01Z-00-DX2.5334831b-8e1f-4b61-bbf6-0f6e950a1b2f.svs; pulling base image at 0.625 and outputing tiles at 20\n",
      "Analyzing TCGA-02-0010-01Z-00-DX2.5334831b-8e1f-4b61-bbf6-0f6e950a1b2f.svs; pulling base image at 0.625 and outputing tiles at 20\n",
      "Analyzing TCGA-02-0010-01Z-00-DX4.07de2e55-a8fe-40ee-9e98-bcb78050b9f7.svs; pulling base image at 0.625 and outputing tiles at 20\n",
      "Analyzing TCGA-02-0010-01Z-00-DX4.07de2e55-a8fe-40ee-9e98-bcb78050b9f7.svs; pulling base image at 0.625 and outputing tiles at 20\n",
      "Analyzing TCGA-02-0011-01Z-00-DX1.7CF44982-AE5A-47A5-8D07-E526522DC094.svs; pulling base image at 0.625 and outputing tiles at 20\n",
      "Analyzing TCGA-02-0011-01Z-00-DX1.7CF44982-AE5A-47A5-8D07-E526522DC094.svs; pulling base image at 0.625 and outputing tiles at 20\n",
      "Analyzing TCGA-02-0014-01Z-00-DX1.b7fd5196-fc51-4dc7-aa6d-e74e1e9ee71d.svs; pulling base image at 0.625 and outputing tiles at 20\n",
      "Analyzing TCGA-02-0014-01Z-00-DX1.b7fd5196-fc51-4dc7-aa6d-e74e1e9ee71d.svs; pulling base image at 0.625 and outputing tiles at 20\n",
      "Analyzing TCGA-02-0016-01Z-00-DX1.BDC4422F-DA4A-4239-B2CF-F19796446767.svs; pulling base image at 0.625 and outputing tiles at 20\n",
      "Analyzing TCGA-02-0016-01Z-00-DX1.BDC4422F-DA4A-4239-B2CF-F19796446767.svs; pulling base image at 0.625 and outputing tiles at 20\n",
      "Analyzing TCGA-02-0021-01Z-00-DX1.1cf4eb25-9406-4638-b69c-e9e141930716.svs; pulling base image at 0.625 and outputing tiles at 20\n",
      "Analyzing TCGA-02-0021-01Z-00-DX1.1cf4eb25-9406-4638-b69c-e9e141930716.svs; pulling base image at 0.625 and outputing tiles at 20\n",
      "Analyzing TCGA-02-0023-01Z-00-DX1.69f7c0c4-ff59-4100-94c3-86b7bf2c27c8.svs; pulling base image at 0.625 and outputing tiles at 20\n",
      "Analyzing TCGA-02-0023-01Z-00-DX1.69f7c0c4-ff59-4100-94c3-86b7bf2c27c8.svs; pulling base image at 0.625 and outputing tiles at 20\n",
      "Analyzing TCGA-02-0024-01Z-00-DX1.d4cec60d-e2b6-41d1-92af-2d24f15b03a9.svs; pulling base image at 0.625 and outputing tiles at 20\n",
      "Analyzing TCGA-02-0024-01Z-00-DX1.d4cec60d-e2b6-41d1-92af-2d24f15b03a9.svs; pulling base image at 0.625 and outputing tiles at 20\n",
      "Analyzing TCGA-02-0025-01Z-00-DX2.aa8923a0-2930-47f4-bbff-ceb080fafc9e.svs; pulling base image at 0.625 and outputing tiles at 20\n",
      "Analyzing TCGA-02-0025-01Z-00-DX2.aa8923a0-2930-47f4-bbff-ceb080fafc9e.svs; pulling base image at 0.625 and outputing tiles at 20\n",
      "Analyzing TCGA-02-0026-01Z-00-DX2.ff8b5c7e-b5ec-43e5-b078-54ab86737f6f.svs; pulling base image at 0.625 and outputing tiles at 20\n",
      "Analyzing TCGA-02-0026-01Z-00-DX2.ff8b5c7e-b5ec-43e5-b078-54ab86737f6f.svs; pulling base image at 0.625 and outputing tiles at 20\n",
      "Analyzing TCGA-02-0027-01Z-00-DX1.8F83A541-8884-45C8-BE51-04ADE5D8D6F2.svs; pulling base image at 0.625 and outputing tiles at 20\n",
      "Analyzing TCGA-02-0027-01Z-00-DX1.8F83A541-8884-45C8-BE51-04ADE5D8D6F2.svs; pulling base image at 0.625 and outputing tiles at 20\n",
      "Analyzing TCGA-02-0033-01Z-00-DX1.3c22d6a0-8b25-4f00-a499-b610d0f3c9a0.svs; pulling base image at 0.625 and outputing tiles at 20\n",
      "Analyzing TCGA-02-0033-01Z-00-DX1.3c22d6a0-8b25-4f00-a499-b610d0f3c9a0.svs; pulling base image at 0.625 and outputing tiles at 20\n",
      "Analyzing TCGA-02-0034-01Z-00-DX1.aebc3ec5-2455-4aa1-b21a-ced8bdc6f3d8.svs; pulling base image at 0.625 and outputing tiles at 20\n",
      "Analyzing TCGA-02-0034-01Z-00-DX1.aebc3ec5-2455-4aa1-b21a-ced8bdc6f3d8.svs; pulling base image at 0.625 and outputing tiles at 20\n",
      "Analyzing TCGA-02-0034-01Z-00-DX2.f86120e8-3574-4a1d-a42b-248e86e2674f.svs; pulling base image at 0.625 and outputing tiles at 20\n",
      "Analyzing TCGA-02-0034-01Z-00-DX2.f86120e8-3574-4a1d-a42b-248e86e2674f.svs; pulling base image at 0.625 and outputing tiles at 20\n",
      "Analyzing TCGA-02-0034-01Z-00-DX3.5982B9BA-7F60-4A41-979A-5BF3C81CC74D.svs; pulling base image at 0.625 and outputing tiles at 20\n",
      "Analyzing TCGA-02-0034-01Z-00-DX3.5982B9BA-7F60-4A41-979A-5BF3C81CC74D.svs; pulling base image at 0.625 and outputing tiles at 20\n",
      "Analyzing TCGA-02-0037-01Z-00-DX1.4b9fe7a7-82a6-4188-b6a7-d74649506e27.svs; pulling base image at 0.625 and outputing tiles at 20\n",
      "Analyzing TCGA-02-0037-01Z-00-DX1.4b9fe7a7-82a6-4188-b6a7-d74649506e27.svs; pulling base image at 0.625 and outputing tiles at 20\n",
      "Analyzing TCGA-02-0037-01Z-00-DX2.18F6DD22-94C4-4808-8957-213D4A101F83.svs; pulling base image at 0.625 and outputing tiles at 20\n",
      "Analyzing TCGA-02-0037-01Z-00-DX2.18F6DD22-94C4-4808-8957-213D4A101F83.svs; pulling base image at 0.625 and outputing tiles at 20\n",
      "Analyzing TCGA-02-0038-01Z-00-DX1.5E369837-371E-4845-AD78-84BB48E1A082.svs; pulling base image at 0.625 and outputing tiles at 20\n",
      "Analyzing TCGA-02-0038-01Z-00-DX1.5E369837-371E-4845-AD78-84BB48E1A082.svs; pulling base image at 0.625 and outputing tiles at 20\n",
      "Analyzing TCGA-02-0047-01Z-00-DX1.4755D138-5842-4159-848C-4248D6D53DE0.svs; pulling base image at 0.625 and outputing tiles at 20\n",
      "Analyzing TCGA-02-0047-01Z-00-DX1.4755D138-5842-4159-848C-4248D6D53DE0.svs; pulling base image at 0.625 and outputing tiles at 20\n",
      "Analyzing TCGA-02-0048-01Z-00-DX1.ADB8ABD8-E1A1-4708-8ADF-0DE96AFADA27.svs; pulling base image at 0.625 and outputing tiles at 20\n",
      "Analyzing TCGA-02-0048-01Z-00-DX1.ADB8ABD8-E1A1-4708-8ADF-0DE96AFADA27.svs; pulling base image at 0.625 and outputing tiles at 20\n",
      "Analyzing TCGA-02-0052-01Z-00-DX1.93BA650B-4E71-43D8-9974-16185F906EB8.svs; pulling base image at 0.625 and outputing tiles at 20\n",
      "Analyzing TCGA-02-0052-01Z-00-DX1.93BA650B-4E71-43D8-9974-16185F906EB8.svs; pulling base image at 0.625 and outputing tiles at 20\n",
      "Analyzing TCGA-02-0054-01Z-00-DX1.B8AFCEF2-4ED1-4329-854A-313AAECF3093.svs; pulling base image at 0.625 and outputing tiles at 20\n",
      "Analyzing TCGA-02-0054-01Z-00-DX1.B8AFCEF2-4ED1-4329-854A-313AAECF3093.svs; pulling base image at 0.625 and outputing tiles at 20\n",
      "Analyzing TCGA-02-0058-01Z-00-DX1.6A05C2EB-C782-4F55-A12D-0339747E9BD3.svs; pulling base image at 0.625 and outputing tiles at 20\n",
      "Analyzing TCGA-02-0058-01Z-00-DX1.6A05C2EB-C782-4F55-A12D-0339747E9BD3.svs; pulling base image at 0.625 and outputing tiles at 20\n"
     ]
    },
    {
     "data": {
      "image/png": "[encoded data removed]",
      "text/plain": [
       "<Figure size 432x288 with 1 Axes>"
      ]
     },
     "metadata": {},
     "output_type": "display_data"
    }
   ],
   "source": [
    "train  = 0.8\n",
    "totalSlides = len(dxSlides)\n",
    "## Output Testing & Training Images for Cohort\n",
    "\n",
    "for idx,sl in enumerate(dxSlides):\n",
    "## I am assuming 80% i.e. 16/20 = 0.8...\n",
    "    if( (idx % 20)  <  16 ):\n",
    "        opd = \"/data/train/%s\" % cohort\n",
    "    else:\n",
    "        opd = \"/data/test/%s\" % cohort\n",
    "\n",
    "    if not os.path.isdir(opd):\n",
    "        os.makedirs(opd)\n",
    "        print(\"Outputing test set now!!\")\n",
    "\n",
    "    slideBaseName = sl['name'].split(\".\")[0]\n",
    "    tilesFound = glob.glob(opd+\"/%s*png\" %  (slideBaseName))\n",
    "    \n",
    "    tilesWanted = 5\n",
    "    tilesToGenerate = tilesWanted - len(tilesFound)\n",
    "    \n",
    "    if (tilesToGenerate) > 0:\n",
    "        grabTilesFromImage( sl, opd, lowResMag=0.625, outputRes=20, tilesToOutput=tilesWanted,debug=True)\n",
    "        #grabTilesFromImage( sl, opd, lowResMag=0.625, outputRes=20, tilesToOutput=tilesToGenerate,debug=True)\n",
    "    else:\n",
    "        stats = \"Processed %d images\" % idx\n",
    "        LinePrinter(stats)"
   ]
  },
  {
   "cell_type": "code",
   "execution_count": 5,
   "metadata": {},
   "outputs": [
    {
     "data": {
      "text/plain": [
       "64"
      ]
     },
     "execution_count": 5,
     "metadata": {},
     "output_type": "execute_result"
    }
   ],
   "source": [
    "totalSlides"
   ]
  },
  {
   "cell_type": "code",
   "execution_count": null,
   "metadata": {},
   "outputs": [],
   "source": []
  },
  {
   "cell_type": "code",
   "execution_count": null,
   "metadata": {},
   "outputs": [],
   "source": []
  },
  {
   "cell_type": "code",
   "execution_count": null,
   "metadata": {},
   "outputs": [],
   "source": []
  },
  {
   "cell_type": "code",
   "execution_count": null,
   "metadata": {},
   "outputs": [],
   "source": []
  },
  {
   "cell_type": "code",
   "execution_count": null,
   "metadata": {},
   "outputs": [],
   "source": []
  },
  {
   "cell_type": "code",
   "execution_count": null,
   "metadata": {},
   "outputs": [],
   "source": [
    "for idx,sl in enumerate(dxSlides):\n",
    "    lowResMag = 0.625\n",
    "    lowResImg = gc.get('/item/%s/tiles/region?magnification=%s' % (sl['_id'], lowResMag),jsonResp=False)    \n",
    "    lowResPILimage = Image.open(io.BytesIO(lowResImg.content))\n",
    "    break\n",
    "sl['_id']"
   ]
  },
  {
   "cell_type": "code",
   "execution_count": null,
   "metadata": {},
   "outputs": [],
   "source": [
    "sl['name']"
   ]
  },
  {
   "cell_type": "code",
   "execution_count": null,
   "metadata": {},
   "outputs": [],
   "source": [
    "im_fgnd_mask_lres = htk_utils.simple_mask(np.asarray(lowResPILimage))"
   ]
  },
  {
   "cell_type": "code",
   "execution_count": null,
   "metadata": {},
   "outputs": [],
   "source": [
    "import matplotlib.pyplot as plt\n",
    "plt.figure(figsize=(12,12))\n",
    "plt.imshow(im_fgnd_mask_lres, cmap=plt.cm.gray)"
   ]
  },
  {
   "cell_type": "code",
   "execution_count": null,
   "metadata": {},
   "outputs": [],
   "source": [
    "(YmaskPts,XmaskPts)  = np.nonzero(im_fgnd_mask_lres)\n",
    "maskCoords = zip(XmaskPts,YmaskPts) # (x, y) form\n",
    "\n",
    "scaleFactor = 32 # this is the high magnification (20x) / low res (0.625)\n",
    "left   = int(min(XmaskPts) * scaleFactor)\n",
    "top    = int(min(YmaskPts) * scaleFactor)\n",
    "right  = int(max(XmaskPts) * scaleFactor)\n",
    "bottom = int(max(YmaskPts) * scaleFactor)\n",
    "left, right, top, bottom\n",
    "\n",
    "corners = []\n",
    "for x in range(left, right, 256):\n",
    "    for y in range(top, bottom, 256):\n",
    "        corners.append([x,y])\n",
    "        \n",
    "np.random.shuffle(corners)\n",
    "\n",
    "slideBaseName =  sl['name'].split(\".\")[0]\n",
    "\n",
    "regionWidth = regionHeight = 256\n",
    "outputRes = 20\n",
    "count = 0\n",
    "\n",
    "for c in corners:\n",
    "    x_low = c[0] / scaleFactor\n",
    "    y_low = c[1] / scaleFactor\n",
    "    top = c[1]\n",
    "    left = c[0]\n",
    "    \n",
    "    \n",
    "    \n",
    "    curTile = gc.get('/item/%s/tiles/region?magnification=%s&top=%d&left=%d&regionWidth=%d&regionHeight=%d' \n",
    "        % ( sl['_id'], outputRes, top, left,regionWidth,regionHeight),jsonResp=False)\n",
    "    img = np.asarray(Image.open(io.BytesIO(curTile.content)))\n",
    "    label = im_fgnd_mask_lres[y_low, x_low]\n",
    "    if label:\n",
    "        count += 1\n",
    "        print (c[0], c[1], x_low, y_low, top, left)\n",
    "        plt.imshow(img)\n",
    "        plt.show()\n",
    "        \n",
    "\n",
    "    if count > 10:\n",
    "        break"
   ]
  },
  {
   "cell_type": "code",
   "execution_count": null,
   "metadata": {},
   "outputs": [],
   "source": [
    "c[0], c[1]"
   ]
  },
  {
   "cell_type": "code",
   "execution_count": null,
   "metadata": {},
   "outputs": [],
   "source": [
    "# outputRes = 20\n",
    "# lowResMag = 0.625\n",
    "scaleFactor = 20/0.625  ##scaleFactor = outPutRes/lowResMag\n",
    "left   = int(min(XmaskPts) * scaleFactor)\n",
    "top    = int(min(YmaskPts) * scaleFactor)\n",
    "right  = int(max(XmaskPts) * scaleFactor)\n",
    "bottom = int(max(YmaskPts) * scaleFactor)\n",
    "\n",
    "corners = []\n",
    "\n",
    "for x in range(left, right, 256):\n",
    "    for y in range(top, bottom, 256):\n",
    "        corners.append([x,y])\n",
    "        \n",
    "np.random.shuffle(corners)\n",
    "\n",
    "slideBaseName =  sl['name'].split(\".\")[0]\n",
    "\n",
    "tilename  = []\n",
    "tilecount = 0\n",
    "\n",
    "mask = im_fgnd_mask_lres\n",
    "\n",
    "rScaleFactor = 0.625/20\n",
    "\n",
    "test = np.zeros(mask.shape)\n",
    "\n",
    "for idx, c in enumerate(corners):\n",
    "    # get region, you have top left corner.\n",
    "    regionWidth = regionHeight = 256\n",
    "#     curTile = gc.get('/item/%s/tiles/region?magnification=%s&top=%d&left=%d&regionWidth=%d&regionHeight=%d' \n",
    "#                            % ( sl['_id'], outputRes, top, left,regionWidth,regionHeight),jsonResp=False)\n",
    "#     img = np.asarray(Image.open(io.BytesIO(curTile.content)))\n",
    "    \n",
    "    x_low, y_low = int(c[0]*rScaleFactor), int(c[1]*rScaleFactor)\n",
    "#         # check if middle pixel is 1 or 0 in mask\n",
    "#         # if 1 save tile, count++\n",
    "    test[y_low, x_low] = 1\n",
    "#     print y_low, x_low\n",
    "#     if mask[x_low, y_low]:   \n",
    "#         print(True)\n",
    "#     if centerPt == 1:\n",
    "#         img = Image.open(io.BytesIO(curTile.content))\n",
    "#         avg = np.average(img)\n",
    "\n",
    "#         status = \"Image %s of %s, imgavg:%s\" % (idx, maxx,avg)\n",
    "\n",
    "#         if avg > 150 and avg < 210:\n",
    "#             tilename = slideBaseName + '_%dx_%d_%d_%dx%d.png' % (outputRes, top, left,regionWidth, regionHeight) \n",
    "#             img.save(opj(outputDir,tilename))\n",
    "#             tilecount+=1\n",
    "\n",
    "#         if tilecount > tilesToOutput or tilecount > maxx:\n",
    "#             break \n"
   ]
  },
  {
   "cell_type": "code",
   "execution_count": null,
   "metadata": {},
   "outputs": [],
   "source": [
    "plt.figure(figsize=(20,20))\n",
    "plt.imshow(test, cmap=plt.cm.gray)"
   ]
  },
  {
   "cell_type": "code",
   "execution_count": null,
   "metadata": {
    "scrolled": true
   },
   "outputs": [],
   "source": [
    "lowResPILimage"
   ]
  },
  {
   "cell_type": "code",
   "execution_count": null,
   "metadata": {},
   "outputs": [],
   "source": [
    "class LinePrinter():\n",
    "    \"\"\"\n",
    "    Print things to stdout on one line dynamically\n",
    "    \"\"\"\n",
    "    def __init__(self,data):\n",
    "        sys.stdout.write(\"\\r\\x1b[K\"+data.__str__())\n",
    "        sys.stdout.flush()"
   ]
  },
  {
   "cell_type": "code",
   "execution_count": null,
   "metadata": {},
   "outputs": [],
   "source": [
    "def grabTilesFromImage( imageData, outputDir, lowResMag=1.25, outputRes=20, tilesToOutput=200,debug=False):\n",
    "    ### This receives a list of images from Girder and will generate tiles and place them in \n",
    "    ### Train and Test Directories-- it will split based on train_test_split and also\n",
    "    ## Will run a low res segmentation step prior to trying to randomly grab tiles from the input stream\n",
    "    ## outputDir should be something like /data/train/gbm or similar; I'll have the function calling this make sure those\n",
    "    ## Dirs already exist\n",
    "\n",
    "    ## Pull the image from girder and then use PIL to turn the raw bytes in an image object\n",
    "    if debug:\n",
    "        print(\"Analyzing %s; pulling base image at %s and outputing tiles at %s\" % (imageData['name'],lowResMag,outputRes))\n",
    "    lowResImg = gc.get('/item/%s/tiles/region?magnification=%s' % ( imageData['_id'], lowResMag),jsonResp=False)    \n",
    "    lowResPILimage = Image.open(io.BytesIO(lowResImg.content))\n",
    "\n",
    "    ## Pass the low res image to htk_simple_mask; but first convert to nparray for processing\n",
    "    im_fgnd_mask_lres = htk_utils.simple_mask(np.asarray(lowResPILimage))\n",
    "\n",
    "    ### NEXT STEP--- I need to grab every POINT in the MASK.. and then grab 100 Random Tiles...\n",
    "    ## FIGuRE OUT THE INDEXES OF ALL POINTS IN THE MASK\n",
    "    (YmaskPts,XmaskPts)  = np.nonzero(im_fgnd_mask_lres)  ## This returns a  Tuples of 2 arrays  X and Y coordinates of non zero points\n",
    "    ## Zip Y and X into Coords\n",
    "    maskCoords = zip(YmaskPts,XmaskPts)\n",
    "    \n",
    "    \n",
    "    \n",
    "    \n",
    "\n",
    "    scaleFactor = outputRes/ lowResMag  ### Need to multiply the Y And X coords by this number to get the target coordinates\n",
    "    maxx = len(maskCoords)\n",
    "    random.shuffle(maskCoords)  ### shuffle the points and then chose however many pts I wnat to grab tiles for\n",
    "    # To save the tiles into file\n",
    "    slideBaseName =  imageData['name'].split(\".\")[0]\n",
    "\n",
    "    tilename =[]\n",
    "    tilecount=0\n",
    "    for idx, c in enumerate(maskCoords):\n",
    "        top = c[0]* scaleFactor ## These are scaled to the output res\n",
    "        left = c[1]* scaleFactor \n",
    "        regionWidth = regionHeight = 256\n",
    "\n",
    "        curTile = gc.get('/item/%s/tiles/region?magnification=%s&top=%d&left=%d&regionWidth=%d&regionHeight=%d' \n",
    "                           % ( imageData['_id'], outputRes, top, left,regionWidth,regionHeight),jsonResp=False)\n",
    "        img = Image.open(io.BytesIO(curTile.content))\n",
    "        avg = np.average(img)\n",
    "\n",
    "        status = \"Image %s of %s, imgavg:%s\" % (idx, maxx,avg)\n",
    "        if debug:\n",
    "            LinePrinter(status)\n",
    "\n",
    "        if avg > 150 and avg < 210:\n",
    "            tilename = slideBaseName + '_%dx_%d_%d_%dx%d.png' % (outputRes, top, left,regionWidth, regionHeight) \n",
    "#            print(outputDir+tilename)\n",
    "            img.save(opj(outputDir,tilename))\n",
    "            tilecount+=1\n",
    "\n",
    "        if tilecount > tilesToOutput or tilecount > maxx:\n",
    "            break"
   ]
  },
  {
   "cell_type": "code",
   "execution_count": null,
   "metadata": {},
   "outputs": [],
   "source": []
  },
  {
   "cell_type": "code",
   "execution_count": null,
   "metadata": {},
   "outputs": [],
   "source": []
  },
  {
   "cell_type": "code",
   "execution_count": null,
   "metadata": {},
   "outputs": [],
   "source": [
    "top = 30\n",
    "bottom = 3000\n",
    "left = 350\n",
    "right = 7000\n",
    "\n",
    "corners = []\n",
    "\n",
    "for x in range(left, right, 256):\n",
    "    for y in range(top, bottom, 256):\n",
    "        corners.append([x,y])\n",
    "l = len(corners)\n",
    "np.random.shuffle(corners)"
   ]
  }
 ],
 "metadata": {
  "kernelspec": {
   "display_name": "Python 2",
   "language": "python",
   "name": "python2"
  },
  "language_info": {
   "codemirror_mode": {
    "name": "ipython",
    "version": 2
   },
   "file_extension": ".py",
   "mimetype": "text/x-python",
   "name": "python",
   "nbconvert_exporter": "python",
   "pygments_lexer": "ipython2",
   "version": "2.7.11"
  }
 },
 "nbformat": 4,
 "nbformat_minor": 2
}
