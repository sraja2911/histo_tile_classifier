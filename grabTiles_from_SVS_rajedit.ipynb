{
 "cells": [
  {
   "cell_type": "code",
   "execution_count": null,
   "metadata": {},
   "outputs": [],
   "source": [
    "import os, sys, json, glob\n",
    "import numpy as np\n",
    "import matplotlib.pyplot as plt\n",
    "import girder_client\n",
    "import histomicstk.utils as htk_utils\n",
    "from cStringIO import StringIO\n",
    "from IPython.display import Image as IPImage  \n",
    "import histomicstk.utils as htk_utils\n",
    "import io, random\n",
    "from PIL import Image, ImageDraw\n",
    "import logging\n",
    "\n",
    "logging.getLogger(\"requests\").setLevel(logging.WARNING)\n",
    "\n",
    "%matplotlib inline"
   ]
  },
  {
   "cell_type": "code",
   "execution_count": null,
   "metadata": {},
   "outputs": [],
   "source": [
    "gc = girder_client.GirderClient(apiUrl=\"http://candygram.neurology.emory.edu:8080/api/v1\")"
   ]
  },
  {
   "cell_type": "code",
   "execution_count": null,
   "metadata": {},
   "outputs": [],
   "source": [
    "class LinePrinter():\n",
    "    \"\"\"\n",
    "    Print things to stdout on one line dynamically\n",
    "    \"\"\"\n",
    "    def __init__(self,data):\n",
    "        sys.stdout.write(\"\\r\\x1b[K\"+data.__str__())\n",
    "        sys.stdout.flush()"
   ]
  },
  {
   "cell_type": "code",
   "execution_count": null,
   "metadata": {},
   "outputs": [],
   "source": [
    "# Fetches DX1 cohort slides only\n",
    "def getDXSlidesInCohort(Cohortname, nSlides):\n",
    "    Cohort = Cohortname\n",
    "    tcgaCohorts = gc.get('/tcga/cohort')   \n",
    "    cohortInfo = dict([(x['name'],x['_id']) for x in tcgaCohorts['data']])\n",
    "    slidesInCohort = gc.get('/tcga/cohort/%s/images?limit=%d' % (cohortInfo[Cohort],nSlides))\n",
    "    dxSlides = [x for x in slidesInCohort['data'] if '-DX' in x['name']]\n",
    "    print(len(dxSlides),\"for the %s Cohort\"%cohort)\n",
    "    return dxSlides"
   ]
  },
  {
   "cell_type": "code",
   "execution_count": null,
   "metadata": {},
   "outputs": [],
   "source": [
    "# Will run a low res segmentation step prior to trying to randomly grab tiles from the input stream\n",
    "def grabTiles(sID, sampleSlide):\n",
    "    sID = sampleSlide['_id']\n",
    "    lowResMag = 1.25\n",
    "    lowResImg = gc.get('/item/%s/tiles/region?magnification=%s' % ( sID, lowResMag),jsonResp=False)\n",
    "    lowResPILimage = Image.open(io.BytesIO(lowResImg.content))\n",
    "    im_fgnd_mask_lres = htk_utils.simple_mask(np.asarray(lowResPILimage))\n",
    "    (YmaskPts,XmaskPts)  = np.nonzero(im_fgnd_mask_lres)\n",
    "    maskCoords = zip(YmaskPts,XmaskPts)\n",
    "    return lowResImg, maskCoords    "
   ]
  },
  {
   "cell_type": "code",
   "execution_count": null,
   "metadata": {},
   "outputs": [],
   "source": [
    "# Tiles save function - to save tiles into a file\n",
    "def tileSave(imageData,nTiles,lowResImg, slideBaseName, out_path, maskCoords):\n",
    "    sl=imageData\n",
    "    sldBaseName = slideBaseName\n",
    "    lowResMag = 1.25\n",
    "    mask_Coords=maskCoords\n",
    "    outpath = out_path\n",
    "    num_tiles=nTiles\n",
    "    \n",
    "    random.shuffle(mask_Coords)  \n",
    "    outputRes = 20\n",
    "    scaleFactor = outputRes/lowResMag\n",
    "    \n",
    "    \n",
    "    maxx = len(mask_Coords)\n",
    "    tilecount=0\n",
    "    for idx, c in enumerate(mask_Coords):\n",
    "        top = c[0]* scaleFactor ## These are scaled to the output res\n",
    "        left = c[1]* scaleFactor \n",
    "        regionWidth = regionHeight = 256\n",
    "        \n",
    "        curTile = gc.get('/item/%s/tiles/region?magnification=%s&top=%d&left=%d&regionWidth=%d&regionHeight=%d' \n",
    "                       % ( sl['_id'], outputRes, top, left, regionWidth, regionHeight),jsonResp=False)\n",
    "        img = Image.open(io.BytesIO(curTile.content))\n",
    "        avg = np.average(img)\n",
    "        if avg > 150 and avg < 210:\n",
    "            tilename = sldBaseName + '_%dx_%d_%d_%dx%d.png' % (outputRes, top, left,regionWidth, regionHeight)\n",
    "            img.save(outpath + tilename)\n",
    "            tilecount+=1\n",
    "        \n",
    "        if tilecount == num_tiles:\n",
    "            break"
   ]
  },
  {
   "cell_type": "code",
   "execution_count": null,
   "metadata": {},
   "outputs": [],
   "source": [
    "# To fetch tiles for Training and Test \n",
    "train  = 0.8\n",
    "cohort = 'gbm'\n",
    "dxSlides = getDXSlidesInCohort(cohort,2000)\n",
    "totalSlides = len(dxSlides)\n",
    "\n",
    "## Output Testing & Training Images for Cohort\n",
    "for idx,sl in enumerate(dxSlides):\n",
    "    if( (idx % 20)  <  16 ):\n",
    "        opd = \"/data/train/%s/\" % cohort\n",
    "    else:\n",
    "        opd = \"/data/test/%s/\" % cohort\n",
    "\n",
    "    if not os.path.isdir(opd):\n",
    "        os.makedirs(opd)\n",
    "\n",
    "    slideBaseName = sl['name'].split(\".\")[0]\n",
    "    tilesFound = glob.glob(opd+\"/%s*png\" %  (slideBaseName))\n",
    "    tilesWanted = 10\n",
    "    tilesToGenerate = tilesWanted - len(tilesFound)\n",
    "    \n",
    "    if (tilesToGenerate) > 0:\n",
    "        sID = sl['_id']\n",
    "        lowResImg, maskCoords = grabTiles(sID, sl)\n",
    "        #tileSave(sl, tilesToGenerate, lowResImg, slideBaseName, opd, maskCoords)\n",
    "        tileSave(sl, tilesWanted, lowResImg, slideBaseName, opd, maskCoords) \n",
    "    else:\n",
    "        stats = \"Processed %d images\" % idx\n",
    "        LinePrinter(stats)"
   ]
  },
  {
   "cell_type": "code",
   "execution_count": null,
   "metadata": {},
   "outputs": [],
   "source": []
  },
  {
   "cell_type": "code",
   "execution_count": null,
   "metadata": {},
   "outputs": [],
   "source": []
  },
  {
   "cell_type": "code",
   "execution_count": null,
   "metadata": {},
   "outputs": [],
   "source": []
  },
  {
   "cell_type": "code",
   "execution_count": null,
   "metadata": {},
   "outputs": [],
   "source": []
  },
  {
   "cell_type": "code",
   "execution_count": null,
   "metadata": {},
   "outputs": [],
   "source": [
    "# Function to fetch tiles randomly from each slide in given Cohort set - Need to be deleted\n",
    "def randomTileSave(dxSlideCohort,cancerClass, train_or_testpath, tileCount):\n",
    "    cancerClass= cancerClass\n",
    "    outpath=train_or_testpath\n",
    "    import random\n",
    "    for slideNumber in range(100):\n",
    "        slideNumber = random.randint(1,101)\n",
    "        sampleSlide = dxSlideCohort['data'][slideNumber]\n",
    "        sID = sampleSlide['_id']\n",
    "        lowResImg, maskCoords = grabTiles(sID, sampleSlide)\n",
    "        slideBaseName = sampleSlide['name'].split(\".\")[0]\n",
    "        out_path = '/data/'+outpath+'/'+cancerClass+'/'\n",
    "        nTiles=tileCount\n",
    "        tileSave(sID, nTiles, lowResImg, slideBaseName, out_path, maskCoords) "
   ]
  },
  {
   "cell_type": "code",
   "execution_count": null,
   "metadata": {},
   "outputs": [],
   "source": [
    "# Fetches all Cohort slides\n",
    "def getSlidesInCohort(Cohortname, nSlides):\n",
    "    tcgaCohorts = gc.get('/tcga/cohort')   \n",
    "    cohortInfo = dict([(x['name'],x['_id']) for x in tcgaCohorts['data']])\n",
    "    slidesInCohort = gc.get('/tcga/cohort/%s/images?limit=%d' % (cohortInfo[Cohort],nSlides))\n",
    "    return slidesInCohort"
   ]
  },
  {
   "cell_type": "code",
   "execution_count": null,
   "metadata": {},
   "outputs": [],
   "source": [
    "# Fetches, 5 tiles each from  100 gbm slides for training\n",
    "cancerClass=\"gbm\"\n",
    "storPath=\"train\"\n",
    "dxSlideCohort = getSlidesInCohort('gbm',100)\n",
    "randomTileSave(dxSlideCohort,cancerClass,storPath,5) "
   ]
  },
  {
   "cell_type": "code",
   "execution_count": null,
   "metadata": {},
   "outputs": [],
   "source": [
    "# Fetches, 5 tiles each from  100 gbm slides for test\n",
    "cancerClass=\"gbm\"\n",
    "storPath=\"test\"\n",
    "dxSlideCohort = getSlidesInCohort('gbm',100)\n",
    "randomTileSave(dxSlideCohort,cancerClass,storPath,5) # Fetches, gbm class tiles for training"
   ]
  },
  {
   "cell_type": "code",
   "execution_count": null,
   "metadata": {},
   "outputs": [],
   "source": [
    "# Fetches, 5 tiles each from  100 lgg slides for training\n",
    "cancerClass=\"lgg\"\n",
    "storPath=\"train\"\n",
    "dxSlideCohort = getSlidesInCohort('lgg',100)\n",
    "randomTileSave(dxSlideCohort,cancerClass,storPath,5) # Fetches, gbm class tiles for training"
   ]
  },
  {
   "cell_type": "code",
   "execution_count": null,
   "metadata": {},
   "outputs": [],
   "source": [
    "# Fetches, 5 tiles each from  100 lgg slides for test\n",
    "cancerClass=\"lgg\"\n",
    "storPath=\"test\"\n",
    "dxSlideCohort = getSlidesInCohort('lgg',100)\n",
    "randomTileSave(dxSlideCohort,cancerClass,storPath,5) # Fetches, gbm class tiles for training"
   ]
  },
  {
   "cell_type": "code",
   "execution_count": null,
   "metadata": {},
   "outputs": [],
   "source": []
  },
  {
   "cell_type": "code",
   "execution_count": null,
   "metadata": {},
   "outputs": [],
   "source": []
  }
 ],
 "metadata": {
  "kernelspec": {
   "display_name": "Python 2",
   "language": "python",
   "name": "python2"
  },
  "language_info": {
   "codemirror_mode": {
    "name": "ipython",
    "version": 2
   },
   "file_extension": ".py",
   "mimetype": "text/x-python",
   "name": "python",
   "nbconvert_exporter": "python",
   "pygments_lexer": "ipython2",
   "version": "2.7.11"
  }
 },
 "nbformat": 4,
 "nbformat_minor": 2
}
