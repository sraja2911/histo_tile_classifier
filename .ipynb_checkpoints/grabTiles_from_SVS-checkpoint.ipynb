{
 "cells": [
  {
   "cell_type": "code",
   "execution_count": null,
   "metadata": {},
   "outputs": [],
   "source": [
    "import os, sys, json, glob\n",
    "import numpy as np\n",
    "import matplotlib.pyplot as plt\n",
    "import girder_client\n",
    "import histomicstk.utils as htk_utils\n",
    "from cStringIO import StringIO\n",
    "from IPython.display import Image as IPImage  ## PIL has an Image Function as well, so want to keep these distinct\n",
    "import histomicstk.utils as htk_utils\n",
    "import io, random\n",
    "from PIL import Image\n",
    "\n",
    "%matplotlib inline"
   ]
  },
  {
   "cell_type": "code",
   "execution_count": null,
   "metadata": {},
   "outputs": [],
   "source": [
    "## Connect to girder and get the cohort ID's for all the TCGA collections\n",
    "gc = girder_client.GirderClient(apiUrl=\"http://candygram.neurology.emory.edu:8080/api/v1\")\n",
    "tcgaCohorts = gc.get('/tcga/cohort')  ## This gets me the folderID for all the TCGA cohorts\n",
    "cohortInfo = dict([(x['name'],x['_id']) for x in tcgaCohorts['data']])"
   ]
  },
  {
   "cell_type": "code",
   "execution_count": null,
   "metadata": {},
   "outputs": [],
   "source": [
    "slidesInCohort = gc.get('/tcga/cohort/%s/images?limit=%d' % (cohortInfo['gbm'],50))\n",
    "## PROBABLY should write a generator to grab all the slides instead of just specifying some giant number"
   ]
  },
  {
   "cell_type": "code",
   "execution_count": null,
   "metadata": {},
   "outputs": [],
   "source": [
    "sampleSlide = slidesInCohort['data'][5]\n",
    "sampleSlide"
   ]
  },
  {
   "cell_type": "code",
   "execution_count": null,
   "metadata": {},
   "outputs": [],
   "source": [
    "\n",
    "# metaData = gc.get('/item/%s/tiles' % ( sID),jsonResp=True)\n",
    "# metaData\n",
    "### Grab the thumbnail of the entire image\n",
    "sID = sampleSlide['_id']\n",
    "# thumbImage = gc.get('/item/%s/tiles/thumbnail?width=%d' % (sID,1024), jsonResp=False)\n",
    "lowResMag = 1.25\n",
    "lowResImg = gc.get('/item/%s/tiles/region?magnification=%s' % ( sID, lowResMag),jsonResp=False)"
   ]
  },
  {
   "cell_type": "code",
   "execution_count": null,
   "metadata": {},
   "outputs": [],
   "source": [
    "IPImage(lowResImg.content)"
   ]
  },
  {
   "cell_type": "code",
   "execution_count": null,
   "metadata": {},
   "outputs": [],
   "source": [
    "lowResPILimage = Image.open(io.BytesIO(lowResImg.content))\n",
    "im_fgnd_mask_lres = htk_utils.simple_mask(np.asarray(lowResPILimage))"
   ]
  },
  {
   "cell_type": "code",
   "execution_count": null,
   "metadata": {},
   "outputs": [],
   "source": [
    "plt.imshow(im_fgnd_mask_lres)"
   ]
  },
  {
   "cell_type": "code",
   "execution_count": null,
   "metadata": {},
   "outputs": [],
   "source": [
    "## I am using MATPLOTLIB TO DISPLAY THE IMAGE ABOVE, NOT the Ipython Image... this can get confusing\n",
    "## If I use Ipython Image feature  it appears totally black, as the mask has a value of 1, so it looks black\n",
    "\n",
    "#Image.fromarray(im_fgnd_mask_lres)\n",
    "### This now works because insteaf of being 0 it's 255 so it's not just grey\n",
    "# plt.plot(im_fgnd_mask_lres)\n",
    "\n",
    "# plt.imshow()\n",
    "\n",
    "## FUN WITH NUMPY \n",
    "\n",
    "## I want to set every value == 1 in the input image to 255\n",
    "\n",
    "#im_fgnd_mask_lres[im_fgnd_mask_lres == 1] = 255\n",
    "\n",
    "\n"
   ]
  },
  {
   "cell_type": "code",
   "execution_count": null,
   "metadata": {},
   "outputs": [],
   "source": [
    "# print(im_fgnd_mask_lres.max())\n",
    "#im_fgnd_mask_lres.any(1)\n",
    "#Image.fromarray(im_fgnd_mask_lres)\n",
    "\n",
    "\n",
    "# redImg = np.zeros(image.shape, image.dtype)\n",
    "# redImg[:,:] = (0, 0, 255)\n",
    "# redMask = cv2.bitwise_and(redImg, redImg, mask=mask)\n",
    "# cv2.addWeighted(redMask, 1, image, 1, 0, image)"
   ]
  },
  {
   "cell_type": "code",
   "execution_count": null,
   "metadata": {},
   "outputs": [],
   "source": [
    "# #    if not os.path.isfile(macroName):\n",
    "# #         curImageMacroUrl = '/item/%s/tiles/thumbnail?width=%s' % (i['_id'],imgWidth)\n",
    "# #         curImage = gc.get(curImageMacroUrl, jsonResp=False)\n",
    "# #         RawImageToPIL =  PILImage.open(StringIO(curImage.content)) ### This is painful.. \n",
    "# #         RawImageToPIL.save(oj(macroImagePath,macroName))\n",
    "\n",
    "# #skimage.color.label2rgb(label, image=None, colors=None, alpha=0.3, bg_label=-1, bg_color=(0, 0, 0), image_alpha=1, kind='overlay')\n",
    "# from skimage.color import label2rgb\n",
    "# import skimage \n",
    "# im_overlap = skimage.color.label2rgb(im_fgnd_mask_lres, np.asarray(lowResPILimage),bg_label=0, alpha=0.3)"
   ]
  },
  {
   "cell_type": "code",
   "execution_count": null,
   "metadata": {},
   "outputs": [],
   "source": []
  },
  {
   "cell_type": "code",
   "execution_count": null,
   "metadata": {},
   "outputs": [],
   "source": [
    "### NEXT STEP--- I need to grab every POINT in the MASK.. and then grab 100 Random Tiles...\n",
    "## FIGuRE OUT THE INDEXES OF ALL POINTS IN THE MASK\n",
    "(YmaskPts,XmaskPts)  = np.nonzero(im_fgnd_mask_lres)  ## This returns a  Tuples of 2 arrays  X and Y coordinates of non zero points\n",
    "\n",
    "## Zip Y and X into Coords\n",
    "\n",
    "maskCoords = zip(YmaskPts,XmaskPts)\n",
    "### So now grab some random points from this array\n",
    "\n"
   ]
  },
  {
   "cell_type": "code",
   "execution_count": null,
   "metadata": {},
   "outputs": [],
   "source": []
  },
  {
   "cell_type": "code",
   "execution_count": null,
   "metadata": {},
   "outputs": [],
   "source": [
    "import logging\n",
    "#logging.getLogger(\"urllib3\").setLevel(logging.ERROR)\n",
    "random.shuffle(maskCoords)  ### shuffle the points and then chose however many pts I wnat to grab tiles for\n",
    "logging.getLogger('requests').setLevel(logging.CRITICAL)\n",
    "\n",
    "outputRes = 20\n",
    "scaleFactor = outputRes/ lowResMag  ### Need to multiply the Y And X coords by this number to get the target coordinates\n",
    "fig=plt.figure(figsize=(8, 8))\n",
    "\n",
    "### Data is YX\n",
    "\n",
    "columns = 10\n",
    "rows = 10\n",
    "idx = 1\n",
    "\n",
    "for c in maskCoords[:100]:\n",
    "#    print c\n",
    "#    break\n",
    "    ## Now I need to iterate and get a region for each image\n",
    "    curTile = gc.get('/item/%s/tiles/region?magnification=%s&top=%d&left=%d&regionWidth=%d&regionHeight=%d' \n",
    "                       % ( sID, outputRes, c[0]*scaleFactor, c[1]*scaleFactor,256,256),jsonResp=False)\n",
    "    img = Image.open(io.BytesIO(curTile.content))\n",
    "    fig.add_subplot(rows,columns,idx)\n",
    "    plt.imshow(img)\n",
    "    idx+=1\n",
    "plt.show(fig)\n",
    "\n",
    "\n",
    "\n",
    "## Convetion for tiles   is imageBaseName.Top.Left.Width.Height.Mag I think\n",
    "\n",
    "##10000,10000,256,256,20\n"
   ]
  },
  {
   "cell_type": "code",
   "execution_count": null,
   "metadata": {},
   "outputs": [],
   "source": [
    "\n",
    "from IPython.display import HTML\n",
    "HTML('''<script>\n",
    "code_show_err=false; \n",
    "function code_toggle_err() {\n",
    " if (code_show_err){\n",
    " $('div.output_stderr').hide();\n",
    " } else {\n",
    " $('div.output_stderr').show();\n",
    " }\n",
    " code_show_err = !code_show_err\n",
    "} \n",
    "$( document ).ready(code_toggle_err);\n",
    "</script>\n",
    "To toggle on/off output_stderr, click <a href=\"javascript:code_toggle_err()\">here</a>.''')\n"
   ]
  },
  {
   "cell_type": "code",
   "execution_count": null,
   "metadata": {},
   "outputs": [],
   "source": [
    "im_fgnd_hl = im_fgnd_mask_lres.copy()\n",
    "\n",
    "for c in maskCoords[:25]:\n",
    "    print(c[0],c[1])\n",
    "    im_fgnd_hl[c[0],c[1]] = 5\n",
    "\n",
    "plt.imshow(im_fgnd_hl)\n",
    "\n",
    "# # .shape\n",
    "\n",
    "# im_fgnd_hl.max()\n",
    "\n",
    "\n",
    "#print(im_fgnd_hl.max())"
   ]
  },
  {
   "cell_type": "code",
   "execution_count": null,
   "metadata": {},
   "outputs": [],
   "source": [
    "im_fgnd_hl[im_fgnd_hl == 2].sum()"
   ]
  },
  {
   "cell_type": "code",
   "execution_count": null,
   "metadata": {},
   "outputs": [],
   "source": [
    "#IPImage(curTile.content)\n",
    "\n",
    "plt.imshow( Image.open(io.IOycurTile.content)"
   ]
  },
  {
   "cell_type": "code",
   "execution_count": null,
   "metadata": {},
   "outputs": [],
   "source": [
    "import numpy as np\n",
    "import matplotlib.pyplot as plt\n",
    "\n",
    "w=10\n",
    "h=10\n",
    "fig=plt.figure(figsize=(8, 8))\n",
    "columns = 4\n",
    "rows = 5\n",
    "for i in range(1, columns*rows +1):\n",
    "    img = np.random.randint(10, size=(h,w))\n",
    "    fig.add_subplot(rows, columns, i)\n",
    "    plt.imshow(img)\n",
    "plt.show()"
   ]
  },
  {
   "cell_type": "code",
   "execution_count": null,
   "metadata": {},
   "outputs": [],
   "source": [
    "# # # import base64, io\n",
    "# # # from PIL import Image\n",
    "# # # import cv2\n",
    "# # # # Take in base64 string and return cv image\n",
    "# # # def stringToRGB(base64_string):\n",
    "# # #     imgdata = base64.b64decode(str(base64_string))\n",
    "# # #     image = Image.open(io.BytesIO(imgdata))\n",
    "# # #     return cv2.cvtColor(np.array(image), cv2.COLOR_BGR2RGB)\n",
    "\n",
    "# from PIL import Image as PILImage\n",
    "# # import StringIO\n",
    "\n",
    "# # # img = PILImage.open\n",
    "\n",
    "# RawImageToPIL =  PILImage.open(StringIO(thumbImage.content)) ### This is painful.. \n",
    "# # # RawImageToPIL.save(oj(macroImagePath,macroName))\n",
    "\n",
    "# im_fgnd_mask_lres = htk_utils.simple_mask(PILImage)\n",
    "# # ## Remember the image from the girder response is a string, it needs to become an imaimgdata)\n",
    "# # #im_lres would be the RGB image of the entire slide at low-res (1.25 x) that you can get from the get region REST end point"
   ]
  }
 ],
 "metadata": {
  "kernelspec": {
   "display_name": "Python 2",
   "language": "python",
   "name": "python2"
  },
  "language_info": {
   "codemirror_mode": {
    "name": "ipython",
    "version": 2
   },
   "file_extension": ".py",
   "mimetype": "text/x-python",
   "name": "python",
   "nbconvert_exporter": "python",
   "pygments_lexer": "ipython2",
   "version": "2.7.11"
  }
 },
 "nbformat": 4,
 "nbformat_minor": 2
}
